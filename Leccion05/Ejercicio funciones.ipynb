{
 "cells": [
  {
   "attachments": {},
   "cell_type": "markdown",
   "metadata": {},
   "source": [
    "Crear una función para sumar los valores recibidos de tipo numérico, utilizando argumentos variables *args como parámetros de la función y regresar como\n",
    "resultado la suma de todos los valores pasados como argumentos."
   ]
  },
  {
   "cell_type": "code",
   "execution_count": 25,
   "metadata": {},
   "outputs": [
    {
     "name": "stdout",
     "output_type": "stream",
     "text": [
      "19\n"
     ]
    }
   ],
   "source": [
    "def sumar(*args):\n",
    "    resultado= 0\n",
    "    \n",
    "    for suma in args:\n",
    "        resultado += suma\n",
    "    return resultado\n",
    "\n",
    "print(sumar(10,4,5))\n",
    "\n",
    "\n",
    "    "
   ]
  },
  {
   "attachments": {},
   "cell_type": "markdown",
   "metadata": {},
   "source": [
    "Crear una función para multiplicar los valores recibidos de tipo numérico,\n",
    "utilizando argumentos variables *args como parámetro de la función y regresar\n",
    "como resultado la multiplicación de todos los valores pasados como argumentos"
   ]
  },
  {
   "cell_type": "code",
   "execution_count": 32,
   "metadata": {},
   "outputs": [
    {
     "name": "stdout",
     "output_type": "stream",
     "text": [
      "45\n"
     ]
    }
   ],
   "source": [
    "def multiplicar(*args):\n",
    "    resultado = 1\n",
    "    \n",
    "    for multiplicacion in args:\n",
    "        resultado *= multiplicacion\n",
    "    return resultado\n",
    "    \n",
    "\n",
    "print(multiplicar(3,5,3))"
   ]
  }
 ],
 "metadata": {
  "kernelspec": {
   "display_name": "Python 3",
   "language": "python",
   "name": "python3"
  },
  "language_info": {
   "codemirror_mode": {
    "name": "ipython",
    "version": 3
   },
   "file_extension": ".py",
   "mimetype": "text/x-python",
   "name": "python",
   "nbconvert_exporter": "python",
   "pygments_lexer": "ipython3",
   "version": "3.11.0"
  },
  "orig_nbformat": 4
 },
 "nbformat": 4,
 "nbformat_minor": 2
}

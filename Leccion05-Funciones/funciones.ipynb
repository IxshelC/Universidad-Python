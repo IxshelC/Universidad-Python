{
 "cells": [
  {
   "attachments": {},
   "cell_type": "markdown",
   "metadata": {},
   "source": [
    "Funciones"
   ]
  },
  {
   "cell_type": "code",
   "execution_count": 8,
   "metadata": {},
   "outputs": [
    {
     "name": "stdout",
     "output_type": "stream",
     "text": [
      " Resultado suma: 10\n"
     ]
    }
   ],
   "source": [
    "def sumar(a,b):\n",
    "    return a+b\n",
    "\n",
    "print(f' Resultado suma: {sumar (5,5)}')"
   ]
  },
  {
   "cell_type": "code",
   "execution_count": null,
   "metadata": {},
   "outputs": [],
   "source": []
  },
  {
   "cell_type": "code",
   "execution_count": 2,
   "metadata": {},
   "outputs": [
    {
     "name": "stdout",
     "output_type": "stream",
     "text": [
      "El resultado de la suma es: 0\n",
      "El resultado de la suma es: 6\n"
     ]
    }
   ],
   "source": [
    "def sumar (a=0, b=0):\n",
    "    return a+b\n",
    "\n",
    "resultado = sumar()\n",
    "print(f'El resultado de la suma es: {resultado}')\n",
    "print(f'El resultado de la suma es: {sumar(2,4)}')"
   ]
  },
  {
   "cell_type": "code",
   "execution_count": 3,
   "metadata": {},
   "outputs": [
    {
     "name": "stdout",
     "output_type": "stream",
     "text": [
      "Juan\n",
      "Tony\n",
      "Diana\n",
      "María\n",
      "Alin\n"
     ]
    }
   ],
   "source": [
    "def listarNombres(*nombres):\n",
    "    for nombre in nombres:\n",
    "        print(nombre)\n",
    "        \n",
    "listarNombres('Juan', 'Tony', 'Diana', 'María','Alin')"
   ]
  }
 ],
 "metadata": {
  "kernelspec": {
   "display_name": "Python 3",
   "language": "python",
   "name": "python3"
  },
  "language_info": {
   "codemirror_mode": {
    "name": "ipython",
    "version": 3
   },
   "file_extension": ".py",
   "mimetype": "text/x-python",
   "name": "python",
   "nbconvert_exporter": "python",
   "pygments_lexer": "ipython3",
   "version": "3.11.0"
  },
  "orig_nbformat": 4
 },
 "nbformat": 4,
 "nbformat_minor": 2
}

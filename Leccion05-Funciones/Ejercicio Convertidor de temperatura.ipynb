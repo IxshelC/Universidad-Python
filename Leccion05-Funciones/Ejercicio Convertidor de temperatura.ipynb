{
 "cells": [
  {
   "attachments": {},
   "cell_type": "markdown",
   "metadata": {},
   "source": [
    "# Ejercicio Convertidor de Temperatura\n",
    "\n",
    "Realizar dos funciones para convertir de grados celsius  a farenheit y viceversa."
   ]
  },
  {
   "cell_type": "code",
   "execution_count": 15,
   "metadata": {},
   "outputs": [
    {
     "name": "stdout",
     "output_type": "stream",
     "text": [
      "Los grados celsius convertidos a grados Fahrenheit son: 95.0°\n",
      "Los grados celsius convertidos a grados Celsius son: 10.0°\n"
     ]
    }
   ],
   "source": [
    "celsius = float(input(\"Ingresa los grados celsius: \"))\n",
    "\n",
    "def convertirCelsius (celsius):\n",
    "    fahrenheit = (celsius* (9/5)+32)\n",
    "    return fahrenheit\n",
    "\n",
    "operacion = convertirCelsius(celsius)\n",
    "\n",
    "print(f'Los grados celsius convertidos a grados Fahrenheit son: {operacion}°')\n",
    "\n",
    "## \n",
    "\n",
    "fahrenheit = float(input(\"Ingresa los grados fahrenheit: \"))\n",
    "\n",
    "def convertirFahrenheit (fahrenheit):\n",
    "    celsius = (fahrenheit- 32)*(5/9)\n",
    "    return celsius\n",
    "\n",
    "operacion = convertirFahrenheit(fahrenheit)\n",
    "\n",
    "print(f'Los grados celsius convertidos a grados Celsius son: {operacion}°')\n",
    "\n"
   ]
  }
 ],
 "metadata": {
  "kernelspec": {
   "display_name": "Python 3",
   "language": "python",
   "name": "python3"
  },
  "language_info": {
   "codemirror_mode": {
    "name": "ipython",
    "version": 3
   },
   "file_extension": ".py",
   "mimetype": "text/x-python",
   "name": "python",
   "nbconvert_exporter": "python",
   "pygments_lexer": "ipython3",
   "version": "3.11.0"
  },
  "orig_nbformat": 4
 },
 "nbformat": 4,
 "nbformat_minor": 2
}

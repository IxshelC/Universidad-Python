{
 "cells": [
  {
   "attachments": {},
   "cell_type": "markdown",
   "metadata": {},
   "source": [
    "Imprimir numeros de 5 a 1 de manera descendiente, usando funciones recursivas.\n",
    "Puede ser cualquier valor positivo, ejemplo: si pasamos el valor de 5, debe imprimir: 5 4 3 2 1"
   ]
  },
  {
   "cell_type": "code",
   "execution_count": 13,
   "metadata": {},
   "outputs": [
    {
     "name": "stdout",
     "output_type": "stream",
     "text": [
      "5\n",
      "4\n",
      "3\n",
      "2\n",
      "1\n"
     ]
    }
   ],
   "source": [
    "def numerosDescendientes (numero):\n",
    "    if numero >= 1:\n",
    "        print(numero)\n",
    "        numerosDescendientes(numero -1 )\n",
    "    elif numero == 0:\n",
    "        return\n",
    "    elif numero == 0:\n",
    "        print('Valor incorrecto') \n",
    "        \n",
    "numerosDescendientes(5)\n",
    "    "
   ]
  }
 ],
 "metadata": {
  "kernelspec": {
   "display_name": "Python 3",
   "language": "python",
   "name": "python3"
  },
  "language_info": {
   "codemirror_mode": {
    "name": "ipython",
    "version": 3
   },
   "file_extension": ".py",
   "mimetype": "text/x-python",
   "name": "python",
   "nbconvert_exporter": "python",
   "pygments_lexer": "ipython3",
   "version": "3.11.0"
  },
  "orig_nbformat": 4
 },
 "nbformat": 4,
 "nbformat_minor": 2
}

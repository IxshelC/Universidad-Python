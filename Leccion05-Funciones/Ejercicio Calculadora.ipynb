{
 "cells": [
  {
   "attachments": {},
   "cell_type": "markdown",
   "metadata": {},
   "source": [
    "# Ejercicio: Calculadora de Impuestos\n",
    "\n",
    "Crear una función para calcular el total de un pago incluyendo un impuesto aplicado.\n",
    "_Formula: pagoTota = pagoSinImpuesto + pagoSInImpeusto *(impuesto/100)_"
   ]
  },
  {
   "cell_type": "code",
   "execution_count": 9,
   "metadata": {},
   "outputs": [
    {
     "name": "stdout",
     "output_type": "stream",
     "text": [
      "Pago con impuesto:1160.0\n"
     ]
    }
   ],
   "source": [
    "pagoSinImpuesto =  float(input(\"Proporcione el pago sin impuesto: \"))\n",
    "montoImpuesto = float(input(\"Proporcione el monto del impuesto: \"))\n",
    "\n",
    "\n",
    "\n",
    "def operacion(pagoSinImpuesto, montoImpuesto):\n",
    "    pagoTotal = pagoSinImpuesto + pagoSinImpuesto * (montoImpuesto/100)\n",
    "    return pagoTotal\n",
    "\n",
    "pagoConImpuesto = operacion(pagoSinImpuesto, montoImpuesto)\n",
    "print(f'Pago con impuesto:{pagoConImpuesto}')"
   ]
  }
 ],
 "metadata": {
  "kernelspec": {
   "display_name": "Python 3",
   "language": "python",
   "name": "python3"
  },
  "language_info": {
   "codemirror_mode": {
    "name": "ipython",
    "version": 3
   },
   "file_extension": ".py",
   "mimetype": "text/x-python",
   "name": "python",
   "nbconvert_exporter": "python",
   "pygments_lexer": "ipython3",
   "version": "3.11.0"
  },
  "orig_nbformat": 4
 },
 "nbformat": 4,
 "nbformat_minor": 2
}

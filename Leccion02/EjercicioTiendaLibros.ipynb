{
 "cells": [
  {
   "cell_type": "code",
   "execution_count": 4,
   "metadata": {},
   "outputs": [
    {
     "name": "stdout",
     "output_type": "stream",
     "text": [
      "\n",
      "      Nombre: It\n",
      "      Id: 23123\n",
      "      Precio: 902.0\n",
      "      Envio Gratruito: False\n",
      "      \n"
     ]
    }
   ],
   "source": [
    "nombreLibro = input(\"Proporciona el nombre: \")\n",
    "idLibro = int(input(\"Proporciona el ID: \"))\n",
    "precio = float(input(\"Proporciona el precio: \"))\n",
    "envio = input(\"Indica si el envío es gratuito (TRUE / FALSE): \")\n",
    "\n",
    "if envio == \"True\":\n",
    "    envio = True\n",
    "elif envio == \"False\":\n",
    "    envio = False\n",
    "else: \n",
    "    envio = \"Valor incorrecto, debe escribir True o False\"\n",
    "\n",
    "\"\"\" print(f'Nombre: {nombreLibro}')\n",
    "print(f'ID: {idLibro}')\n",
    "print(f'Precio: {precio}')\n",
    "print(f'Envío Gratuito? {envio}') \"\"\"\n",
    "\n",
    "print (f'''\n",
    "      Nombre: {nombreLibro}\n",
    "      Id: {idLibro}\n",
    "      Precio: {precio}\n",
    "      Envio Gratruito: {envio}\n",
    "      ''')"
   ]
  }
 ],
 "metadata": {
  "kernelspec": {
   "display_name": "Python 3",
   "language": "python",
   "name": "python3"
  },
  "language_info": {
   "codemirror_mode": {
    "name": "ipython",
    "version": 3
   },
   "file_extension": ".py",
   "mimetype": "text/x-python",
   "name": "python",
   "nbconvert_exporter": "python",
   "pygments_lexer": "ipython3",
   "version": "3.11.0"
  },
  "orig_nbformat": 4,
  "vscode": {
   "interpreter": {
    "hash": "5238573367df39f7286bb46f9ff5f08f63a01a80960060ce41e3c79b190280fa"
   }
  }
 },
 "nbformat": 4,
 "nbformat_minor": 2
}

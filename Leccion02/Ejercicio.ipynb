{
 "cells": [
  {
   "attachments": {},
   "cell_type": "markdown",
   "metadata": {},
   "source": [
    "Instrucciones: \n",
    "\n",
    "- En el siguiente ejercicio se solicita calcular el área y el perímetro de un Rectangulo, para ello deberemos de crear las siguientes variables:\n",
    "  \n",
    "  alto(int)\n",
    "  ancho(int)\n",
    "\n",
    "- El usuario debe proporcionar los valores ede largo y ancho, y después se debe imprimir el resultado en el siguiente formato:\n",
    "Proporciona el alto:\n",
    "Porporciona el ancho:\n",
    "Area: <area>\n",
    "Perímetro: <perimetro>\n",
    "\n",
    "Las fórmulas para calcular el área y el perímetro de un Rectángulo son:\n",
    "Area: alto* ancho\n",
    "perímetro: (alto+ancho)*2\n"
   ]
  },
  {
   "cell_type": "code",
   "execution_count": 8,
   "metadata": {},
   "outputs": [
    {
     "name": "stdout",
     "output_type": "stream",
     "text": [
      "El ato es: 5\n",
      "El Ancho es: 3\n",
      "El Perímetro es: 16\n",
      "El Área es: 15\n"
     ]
    }
   ],
   "source": [
    "alto = int(input(\"Proporciona el alto: \"))\n",
    "print(f'El ato es: {alto}')\n",
    "\n",
    "ancho = int(input('Proporciona el ancho:'))\n",
    "print(f'El Ancho es: {ancho}')\n",
    "\n",
    "area = alto * ancho\n",
    "perimetro = (alto + ancho)*2\n",
    "\n",
    "print(f'El Área es: {area}')\n",
    "print(f'El Perímetro es: {perimetro}')\n"
   ]
  }
 ],
 "metadata": {
  "kernelspec": {
   "display_name": "Python 3",
   "language": "python",
   "name": "python3"
  },
  "language_info": {
   "codemirror_mode": {
    "name": "ipython",
    "version": 3
   },
   "file_extension": ".py",
   "mimetype": "text/x-python",
   "name": "python",
   "nbconvert_exporter": "python",
   "pygments_lexer": "ipython3",
   "version": "3.11.0"
  },
  "orig_nbformat": 4,
  "vscode": {
   "interpreter": {
    "hash": "5238573367df39f7286bb46f9ff5f08f63a01a80960060ce41e3c79b190280fa"
   }
  }
 },
 "nbformat": 4,
 "nbformat_minor": 2
}

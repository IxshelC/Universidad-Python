{
 "cells": [
  {
   "cell_type": "code",
   "execution_count": 3,
   "metadata": {},
   "outputs": [
    {
     "name": "stdout",
     "output_type": "stream",
     "text": [
      "El valor 2 está dentro del rango\n"
     ]
    }
   ],
   "source": [
    "valor = int(input('Escribe el valor: '))\n",
    "valorMinimo = 0\n",
    "valorMaximo = 5\n",
    "\n",
    "dentroRango = (valor >= valorMinimo) and (valor <=valorMaximo)\n",
    "\n",
    "if dentroRango:\n",
    "    print(f\"El valor {valor} está dentro del rango\")\n",
    "else:\n",
    "    print(f'El valor {valor} está fuera de rango')"
   ]
  },
  {
   "attachments": {},
   "cell_type": "markdown",
   "metadata": {},
   "source": [
    "## Ejercicio con OPERADOR OR"
   ]
  },
  {
   "cell_type": "code",
   "execution_count": 7,
   "metadata": {},
   "outputs": [
    {
     "name": "stdout",
     "output_type": "stream",
     "text": [
      "Puede asistir al juego\n"
     ]
    }
   ],
   "source": [
    "vacaciones = True\n",
    "diaDescanso = False\n",
    "\n",
    "if vacaciones or diaDescanso:\n",
    "    print('Puede asistir al juego')\n",
    "else:\n",
    "    print('No puede asistir al juego')"
   ]
  },
  {
   "attachments": {},
   "cell_type": "markdown",
   "metadata": {},
   "source": [
    "## Ejercicio con OPERADOR NOT"
   ]
  },
  {
   "cell_type": "code",
   "execution_count": 2,
   "metadata": {},
   "outputs": [
    {
     "name": "stdout",
     "output_type": "stream",
     "text": [
      "No puede asistir al juego\n"
     ]
    }
   ],
   "source": [
    "vacaciones = True\n",
    "diaDescanso = False\n",
    "\n",
    "if not (vacaciones or diaDescanso):\n",
    "    print('Puede asistir al juego')\n",
    "else:\n",
    "    print('No puede asistir al juego')"
   ]
  },
  {
   "attachments": {},
   "cell_type": "markdown",
   "metadata": {},
   "source": [
    "\n",
    "## EJERCICIO RANGO 20 - 30"
   ]
  },
  {
   "cell_type": "code",
   "execution_count": 8,
   "metadata": {},
   "outputs": [
    {
     "name": "stdout",
     "output_type": "stream",
     "text": [
      "treintas\n",
      "Dentro de los 30's\n"
     ]
    }
   ],
   "source": [
    "edad = int(input(\"Introduce tu edad: \"))\n",
    "\n",
    "veintes = edad >= 20 and edad <= 30\n",
    "treintas = edad >= 30 and edad <= 40\n",
    "print('treintas')\n",
    "\n",
    "if veintes or treintas:\n",
    "    #print('Dentro de rango (20\\'s ) o (30\\'s)')\n",
    "    if veintes: \n",
    "        print('Dentro de los 20\\'s')\n",
    "    elif treintas:\n",
    "        print('Dentro de los 30\\'s')\n",
    "    else:\n",
    "        print('Fuera de rango')\n",
    "else:\n",
    "    print(\"No está dentro de los 20's ni 30's\")\n",
    "\n"
   ]
  },
  {
   "attachments": {},
   "cell_type": "markdown",
   "metadata": {},
   "source": [
    "Simplificando el operador AND"
   ]
  },
  {
   "cell_type": "code",
   "execution_count": 2,
   "metadata": {},
   "outputs": [
    {
     "name": "stdout",
     "output_type": "stream",
     "text": [
      "Dentro del rango (20's) o (30's)\n"
     ]
    }
   ],
   "source": [
    "edad = int(input(\"Introduce tu edad: \"))\n",
    "if (20 <= edad < 30) or ( 30 <= edad < 40):\n",
    "    print(\"Dentro del rango (20\\'s) o (30\\'s)\")\n",
    "else: \n",
    "    print(\"No está dentro del rango\")"
   ]
  }
 ],
 "metadata": {
  "kernelspec": {
   "display_name": "Python 3",
   "language": "python",
   "name": "python3"
  },
  "language_info": {
   "codemirror_mode": {
    "name": "ipython",
    "version": 3
   },
   "file_extension": ".py",
   "mimetype": "text/x-python",
   "name": "python",
   "nbconvert_exporter": "python",
   "pygments_lexer": "ipython3",
   "version": "3.11.0"
  },
  "orig_nbformat": 4,
  "vscode": {
   "interpreter": {
    "hash": "5238573367df39f7286bb46f9ff5f08f63a01a80960060ce41e3c79b190280fa"
   }
  }
 },
 "nbformat": 4,
 "nbformat_minor": 2
}

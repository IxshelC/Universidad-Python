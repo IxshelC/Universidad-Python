{
 "cells": [
  {
   "cell_type": "code",
   "execution_count": 9,
   "metadata": {},
   "outputs": [
    {
     "name": "stdout",
     "output_type": "stream",
     "text": [
      "Tu edad es: 26, Amor y comienza el trabajo...\n"
     ]
    }
   ],
   "source": [
    "edad = int(input('Proporciona tu edad: '))\n",
    "mensaje = None\n",
    "\n",
    "if 0 <= edad < 10:\n",
    "    mensaje = \"La infancia es increíble...\"\n",
    "elif 10 <= edad < 20:\n",
    "    mensaje =\" Muchos cambios y mucho estudio...\"\n",
    "elif 20 <= edad < 30:\n",
    "    mensaje =\"Amor y comienza el trabajo...\"\n",
    "else:\n",
    "    mensaje =\"Etapa de la vida no reconocida\"\n",
    "print(f'Tu edad es: {edad}, {mensaje}')"
   ]
  }
 ],
 "metadata": {
  "kernelspec": {
   "display_name": "Python 3",
   "language": "python",
   "name": "python3"
  },
  "language_info": {
   "codemirror_mode": {
    "name": "ipython",
    "version": 3
   },
   "file_extension": ".py",
   "mimetype": "text/x-python",
   "name": "python",
   "nbconvert_exporter": "python",
   "pygments_lexer": "ipython3",
   "version": "3.11.0"
  },
  "orig_nbformat": 4,
  "vscode": {
   "interpreter": {
    "hash": "5238573367df39f7286bb46f9ff5f08f63a01a80960060ce41e3c79b190280fa"
   }
  }
 },
 "nbformat": 4,
 "nbformat_minor": 2
}

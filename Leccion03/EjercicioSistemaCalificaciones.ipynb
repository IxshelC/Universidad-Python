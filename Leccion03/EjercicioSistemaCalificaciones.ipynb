{
 "cells": [
  {
   "attachments": {},
   "cell_type": "markdown",
   "metadata": {},
   "source": [
    "# Ejercicio de  sistema de calificaciones\n",
    "\n",
    "El objetivo del ejercicio es crear  un sistema de calificaciones\n",
    "\n",
    "- El usuario proporcionará un valor entre 0 y 10.\n",
    "- Si está entre 9 y 10: imprimir una A\n",
    "- Si está entre un 8 y menor a 9: imprimir una B\n",
    "- Si está entre 7 y menor a 8:  imprimir una C\n",
    "- Si está entre 6 y menor a 7: imprimir una D\n",
    "- Si está entre 0 y menor a 6: imprimir una F\n",
    "- Cualquier otro valor debe imprimir : Valor Incorrecto.\n"
   ]
  },
  {
   "cell_type": "code",
   "execution_count": 6,
   "metadata": {},
   "outputs": [
    {
     "name": "stdout",
     "output_type": "stream",
     "text": [
      "F\n"
     ]
    }
   ],
   "source": [
    "calificacion = int(input('Proporciona un valor entre 0 y 10: '))\n",
    "\n",
    "\n",
    "if 9 <=  calificacion <= 10:\n",
    "    print(\"A\")\n",
    "elif 8 <= calificacion <9:\n",
    "    print(\"B\")\n",
    "elif 7 <= calificacion <8:\n",
    "    print(\"C\")\n",
    "elif 6 <= calificacion < 7:\n",
    "    print(\"D\")\n",
    "elif 0 <= calificacion < 6:\n",
    "    print(\"F\")\n",
    "else:\n",
    "    print(\"Valor incorrecto\")"
   ]
  }
 ],
 "metadata": {
  "kernelspec": {
   "display_name": "Python 3",
   "language": "python",
   "name": "python3"
  },
  "language_info": {
   "codemirror_mode": {
    "name": "ipython",
    "version": 3
   },
   "file_extension": ".py",
   "mimetype": "text/x-python",
   "name": "python",
   "nbconvert_exporter": "python",
   "pygments_lexer": "ipython3",
   "version": "3.11.0"
  },
  "orig_nbformat": 4,
  "vscode": {
   "interpreter": {
    "hash": "5238573367df39f7286bb46f9ff5f08f63a01a80960060ce41e3c79b190280fa"
   }
  }
 },
 "nbformat": 4,
 "nbformat_minor": 2
}

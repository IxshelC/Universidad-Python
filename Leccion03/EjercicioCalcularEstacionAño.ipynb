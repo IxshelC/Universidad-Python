{
 "cells": [
  {
   "cell_type": "code",
   "execution_count": 1,
   "metadata": {},
   "outputs": [
    {
     "name": "stdout",
     "output_type": "stream",
     "text": [
      "Para el mes: 9 la estación es: Otoño\n"
     ]
    }
   ],
   "source": [
    "mes = int(input(\"Ingrese el número de mes (1 - 12): \"))\n",
    "\n",
    "estacion = None\n",
    "\n",
    "if mes == 1 or mes == 2 or mes == 12:\n",
    "    estacion = 'Invierno'\n",
    "elif mes == 3 or mes == 4 or mes == 5:\n",
    "    estacion = 'Primavera'\n",
    "elif mes == 6 or mes ==7 or mes == 8: \n",
    "    estacion = 'Verano'\n",
    "elif mes == 9 or mes ==10 or mes ==11:\n",
    "    estacion = 'Otoño'\n",
    "    \n",
    "print(f'Para el mes: {mes} la estación es: {estacion}')\n",
    "    "
   ]
  }
 ],
 "metadata": {
  "kernelspec": {
   "display_name": "Python 3",
   "language": "python",
   "name": "python3"
  },
  "language_info": {
   "codemirror_mode": {
    "name": "ipython",
    "version": 3
   },
   "file_extension": ".py",
   "mimetype": "text/x-python",
   "name": "python",
   "nbconvert_exporter": "python",
   "pygments_lexer": "ipython3",
   "version": "3.11.0"
  },
  "orig_nbformat": 4,
  "vscode": {
   "interpreter": {
    "hash": "5238573367df39f7286bb46f9ff5f08f63a01a80960060ce41e3c79b190280fa"
   }
  }
 },
 "nbformat": 4,
 "nbformat_minor": 2
}
